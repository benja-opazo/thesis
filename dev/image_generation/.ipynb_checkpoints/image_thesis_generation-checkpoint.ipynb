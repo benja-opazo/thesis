{
 "cells": [
  {
   "cell_type": "code",
   "execution_count": 1,
   "metadata": {},
   "outputs": [],
   "source": [
    "import numpy as np\n",
    "import pandas as pd\n",
    "import matplotlib.pyplot as plt\n",
    "\n",
    "CB91_Blue = '#2CBDFE'\n",
    "CB91_Green = '#47DBCD'\n",
    "CB91_Pink = '#F3A0F2'\n",
    "CB91_Purple = '#9D2EC5'\n",
    "CB91_Violet = '#661D98'\n",
    "CB91_Amber = '#F5B14C'\n",
    "\n",
    "plt.style.use('./thesis_style.mplstyle')\n",
    "\n",
    "\n",
    "\n",
    "color_list = [CB91_Purple, CB91_Green, CB91_Amber, CB91_Pink,\n",
    "              CB91_Blue, CB91_Violet]\n",
    "plt.rcParams['axes.prop_cycle'] = plt.cycler(color=color_list)"
   ]
  },
  {
   "cell_type": "code",
   "execution_count": 2,
   "metadata": {},
   "outputs": [],
   "source": [
    "def data_image(data, name, title, xlabel, ylabel, legend):\n",
    "    \n",
    "    fig, ax = plt.subplots(tight_layout=True, figsize=(8,4))\n",
    "\n",
    "    for dataplot in data:\n",
    "        #dataplot[dataplot.columns[0]].plot(ax=ax, kind=\"line\",use_index=True)    \n",
    "        #dataplot[dataplot.columns[0]].plot(ax=ax, kind=\"line\",use_index=True)    \n",
    "        \n",
    "        plt.plot(dataplot.index, dataplot[dataplot.columns[0]])\n",
    "    \n",
    "    first = float(data[0].index[0])\n",
    "    last = float(data[0].index[-1])\n",
    "\n",
    "\n",
    "    left, right = plt.xlim()\n",
    "    \n",
    "    # This is an exception to make the Jitter and Shimmer Frequency figure look nice\n",
    "    if (last == 24000):\n",
    "        number_of_ticks = 9\n",
    "    else:\n",
    "        number_of_ticks = 8\n",
    "    \n",
    "    # The original axis start before the first value and end after the last value. To make it\n",
    "    # start from 0 to the last value, the range has to go from 0 to right + left\n",
    "    if (left <= 0):\n",
    "        xaxis_range = np.linspace(left, right + left, number_of_ticks)\n",
    "    else:\n",
    "        xaxis_range = np.linspace(left, right, number_of_ticks)\n",
    "    xaxis_ticks = np.linspace(0, last, len(xaxis_range))\n",
    "\n",
    "    # If ticks values are to high, round to the nearest int\n",
    "    if (xaxis_ticks.max() > 10):\n",
    "        xaxis_ticks = xaxis_ticks.astype(int)\n",
    "    else:\n",
    "        xaxis_ticks = np.around(xaxis_ticks, decimals = 1)\n",
    "    \n",
    "    if (left <= 0):\n",
    "        plt.xlim(left,right + left)\n",
    "    else:\n",
    "        plt.xlim(left,right)\n",
    "    plt.xticks(xaxis_range,xaxis_ticks)\n",
    "    \n",
    "    ax.set_title(title, fontsize='large')\n",
    "    ax.set_xlabel(xlabel, fontsize='medium')\n",
    "    ax.set_ylabel(ylabel, fontsize='medium')\n",
    "\n",
    "    ax.legend(legend)#, bbox_to_anchor=(0, -0.4, 1, 0), loc=\"lower left\", mode=\"expand\", ncol=3)\n",
    "\n",
    "    plt.savefig(\"thesis/\" + name + \".png\", bbox_inches='tight', format='png')\n",
    "    plt.close(fig)"
   ]
  },
  {
   "cell_type": "code",
   "execution_count": 23,
   "metadata": {},
   "outputs": [],
   "source": [
    "    \n",
    "\n",
    "original_spectrum = pd.read_csv(\"../outputs/figures/original_spectrum.csv\",index_col=0)\n",
    "modified_spectrum = pd.read_csv(\"../outputs/figures/modified_spectrum.csv\",index_col=0)\n",
    "spectrum_modifer = pd.read_csv(\"../outputs/figures/spectrum_modifier.csv\",index_col=0)\n",
    "\n",
    "rosenberg = list()\n",
    "rosenberg.append(pd.read_csv(\"../outputs/figures/rosenberg_rd04.csv\",index_col=0))\n",
    "rosenberg.append(pd.read_csv(\"../outputs/figures/rosenberg_rd45.csv\",index_col=0))\n",
    "rosenberg.append(pd.read_csv(\"../outputs/figures/rosenberg_rd1.csv\",index_col=0))\n",
    "\n",
    "\n",
    "data_image([original_spectrum], \"original_spectrum\", \"Original Recovered Spectrum\", \"Frequency [Hz]\", \"Amplitude [-]\",[\"Original Spectrum\"])\n",
    "data_image([modified_spectrum], \"modified_spectrum\", \"Modified Recovered Spectrum\", \"Frequency [Hz]\", \"Amplitude [-]\",[\"Modified Spectrum\"])\n",
    "data_image([spectrum_modifer], \"spectrum_modifer\", \"Spectrum Modifier\", \"Sample [-]\", \"Amplitude [-]\",[\"Modifier\"])\n",
    "data_image(rosenberg, \"rosenberg_rd\", \"Rosenberg Pulse RD Parameter Comparison\", \"Sample [-]\", \"Amplitude [-]\",[\"Rd Parameter = 0.4\",\"Rd Parameter = 1\",\"Rd Parameter = 4.5\"])"
   ]
  },
  {
   "cell_type": "code",
   "execution_count": 14,
   "metadata": {},
   "outputs": [
    {
     "name": "stdout",
     "output_type": "stream",
     "text": [
      "test\n"
     ]
    },
    {
     "data": {
      "image/png": "[encoded data removed]",
      "text/plain": [
       "<Figure size 432x288 with 1 Axes>"
      ]
     },
     "metadata": {
      "needs_background": "light"
     },
     "output_type": "display_data"
    }
   ],
   "source": [
    "for dataplot in [rosenberg]:\n",
    "    print('test')\n",
    "    plt.plot(dataplot.index, dataplot[dataplot.columns[0]])"
   ]
  },
  {
   "cell_type": "code",
   "execution_count": 18,
   "metadata": {},
   "outputs": [
    {
     "data": {
      "text/plain": [
       "'Rd1'"
      ]
     },
     "execution_count": 18,
     "metadata": {},
     "output_type": "execute_result"
    }
   ],
   "source": [
    "rosenberg.columns[0]"
   ]
  },
  {
   "cell_type": "code",
   "execution_count": 19,
   "metadata": {},
   "outputs": [
    {
     "data": {
      "text/html": [
       "<div>\n",
       "<style scoped>\n",
       "    .dataframe tbody tr th:only-of-type {\n",
       "        vertical-align: middle;\n",
       "    }\n",
       "\n",
       "    .dataframe tbody tr th {\n",
       "        vertical-align: top;\n",
       "    }\n",
       "\n",
       "    .dataframe thead th {\n",
       "        text-align: right;\n",
       "    }\n",
       "</style>\n",
       "<table border=\"1\" class=\"dataframe\">\n",
       "  <thead>\n",
       "    <tr style=\"text-align: right;\">\n",
       "      <th></th>\n",
       "      <th>Rd1</th>\n",
       "      <th>Rd2</th>\n",
       "      <th>Rd3</th>\n",
       "    </tr>\n",
       "    <tr>\n",
       "      <th>N</th>\n",
       "      <th></th>\n",
       "      <th></th>\n",
       "      <th></th>\n",
       "    </tr>\n",
       "  </thead>\n",
       "  <tbody>\n",
       "    <tr>\n",
       "      <th>0.000000</th>\n",
       "      <td>0.000000</td>\n",
       "      <td>0.000000</td>\n",
       "      <td>0.000000</td>\n",
       "    </tr>\n",
       "    <tr>\n",
       "      <th>0.000021</th>\n",
       "      <td>0.000000</td>\n",
       "      <td>0.000000</td>\n",
       "      <td>0.000000</td>\n",
       "    </tr>\n",
       "    <tr>\n",
       "      <th>0.000042</th>\n",
       "      <td>0.000000</td>\n",
       "      <td>0.000000</td>\n",
       "      <td>0.000000</td>\n",
       "    </tr>\n",
       "    <tr>\n",
       "      <th>0.000063</th>\n",
       "      <td>0.000000</td>\n",
       "      <td>0.000000</td>\n",
       "      <td>0.000000</td>\n",
       "    </tr>\n",
       "    <tr>\n",
       "      <th>0.000083</th>\n",
       "      <td>0.000000</td>\n",
       "      <td>0.000000</td>\n",
       "      <td>0.000000</td>\n",
       "    </tr>\n",
       "    <tr>\n",
       "      <th>...</th>\n",
       "      <td>...</td>\n",
       "      <td>...</td>\n",
       "      <td>...</td>\n",
       "    </tr>\n",
       "    <tr>\n",
       "      <th>0.021250</th>\n",
       "      <td>0.020446</td>\n",
       "      <td>0.000133</td>\n",
       "      <td>0.004703</td>\n",
       "    </tr>\n",
       "    <tr>\n",
       "      <th>0.021271</th>\n",
       "      <td>0.020446</td>\n",
       "      <td>0.000133</td>\n",
       "      <td>0.004703</td>\n",
       "    </tr>\n",
       "    <tr>\n",
       "      <th>0.021292</th>\n",
       "      <td>0.020446</td>\n",
       "      <td>0.000133</td>\n",
       "      <td>0.004703</td>\n",
       "    </tr>\n",
       "    <tr>\n",
       "      <th>0.021312</th>\n",
       "      <td>0.020446</td>\n",
       "      <td>0.000133</td>\n",
       "      <td>0.004703</td>\n",
       "    </tr>\n",
       "    <tr>\n",
       "      <th>0.021333</th>\n",
       "      <td>0.020446</td>\n",
       "      <td>0.000133</td>\n",
       "      <td>0.004703</td>\n",
       "    </tr>\n",
       "  </tbody>\n",
       "</table>\n",
       "<p>1024 rows × 3 columns</p>\n",
       "</div>"
      ],
      "text/plain": [
       "               Rd1       Rd2       Rd3\n",
       "N                                     \n",
       "0.000000  0.000000  0.000000  0.000000\n",
       "0.000021  0.000000  0.000000  0.000000\n",
       "0.000042  0.000000  0.000000  0.000000\n",
       "0.000063  0.000000  0.000000  0.000000\n",
       "0.000083  0.000000  0.000000  0.000000\n",
       "...            ...       ...       ...\n",
       "0.021250  0.020446  0.000133  0.004703\n",
       "0.021271  0.020446  0.000133  0.004703\n",
       "0.021292  0.020446  0.000133  0.004703\n",
       "0.021312  0.020446  0.000133  0.004703\n",
       "0.021333  0.020446  0.000133  0.004703\n",
       "\n",
       "[1024 rows x 3 columns]"
      ]
     },
     "execution_count": 19,
     "metadata": {},
     "output_type": "execute_result"
    }
   ],
   "source": [
    "rosenberg"
   ]
  },
  {
   "cell_type": "code",
   "execution_count": null,
   "metadata": {},
   "outputs": [],
   "source": []
  }
 ],
 "metadata": {
  "kernelspec": {
   "display_name": "Python 3",
   "language": "python",
   "name": "python3"
  },
  "language_info": {
   "codemirror_mode": {
    "name": "ipython",
    "version": 3
   },
   "file_extension": ".py",
   "mimetype": "text/x-python",
   "name": "python",
   "nbconvert_exporter": "python",
   "pygments_lexer": "ipython3",
   "version": "3.8.5"
  }
 },
 "nbformat": 4,
 "nbformat_minor": 4
}
